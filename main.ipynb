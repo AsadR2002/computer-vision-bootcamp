{
 "cells": [
  {
   "cell_type": "code",
   "execution_count": 1,
   "id": "2321a1df",
   "metadata": {},
   "outputs": [],
   "source": [
    "import tensorflow as tf\n",
    "from tensorflow.keras import datasets, layers, models\n",
    "import matplotlib.pyplot as plt\n",
    "import numpy as np"
   ]
  },
  {
   "cell_type": "code",
   "execution_count": 2,
   "id": "83b0b96c",
   "metadata": {},
   "outputs": [],
   "source": [
    "(x_train, y_train), (x_test,y_test) = datasets.cifar10.load_data() #loading training and testing dataset"
   ]
  },
  {
   "cell_type": "code",
   "execution_count": 3,
   "id": "100684e0",
   "metadata": {},
   "outputs": [],
   "source": [
    "classes = [\"airplane\", \"automobile\", \"bird\", \"cat\", \"deer\", \"dog\", \"frog\", \"horse\", \"ship\", \"truck\"] #declaring classes used in dataset\n",
    "\n",
    "x_train = x_train / 255.0 #normalizing training data pixel values from 0 to 1\n",
    "x_test = x_test / 255.0 #normalizing testing data pixel values from 0 to 1\n",
    "\n"
   ]
  },
  {
   "cell_type": "code",
   "execution_count": 7,
   "id": "287890b0",
   "metadata": {},
   "outputs": [
    {
     "name": "stdout",
     "output_type": "stream",
     "text": [
      "Epoch 1/15\n",
      "1563/1563 [==============================] - 24s 15ms/step - loss: 1.5207 - accuracy: 0.4516\n",
      "Epoch 2/15\n",
      "1563/1563 [==============================] - 23s 15ms/step - loss: 1.1473 - accuracy: 0.6002\n",
      "Epoch 3/15\n",
      "1563/1563 [==============================] - 23s 15ms/step - loss: 1.0278 - accuracy: 0.6396\n",
      "Epoch 4/15\n",
      "1563/1563 [==============================] - 24s 15ms/step - loss: 0.9484 - accuracy: 0.6672\n",
      "Epoch 5/15\n",
      "1563/1563 [==============================] - 24s 15ms/step - loss: 0.8893 - accuracy: 0.6896\n",
      "Epoch 6/15\n",
      "1563/1563 [==============================] - 25s 16ms/step - loss: 0.8381 - accuracy: 0.7069\n",
      "Epoch 7/15\n",
      "1563/1563 [==============================] - 25s 16ms/step - loss: 0.7983 - accuracy: 0.7229\n",
      "Epoch 8/15\n",
      "1563/1563 [==============================] - 25s 16ms/step - loss: 0.7577 - accuracy: 0.7380\n",
      "Epoch 9/15\n",
      "1563/1563 [==============================] - 25s 16ms/step - loss: 0.7197 - accuracy: 0.7514\n",
      "Epoch 10/15\n",
      "1563/1563 [==============================] - 25s 16ms/step - loss: 0.6913 - accuracy: 0.7580\n",
      "Epoch 11/15\n",
      "1563/1563 [==============================] - 25s 16ms/step - loss: 0.6594 - accuracy: 0.7712\n",
      "Epoch 12/15\n",
      "1563/1563 [==============================] - 25s 16ms/step - loss: 0.6311 - accuracy: 0.7801\n",
      "Epoch 13/15\n",
      "1563/1563 [==============================] - 25s 16ms/step - loss: 0.6008 - accuracy: 0.7911\n",
      "Epoch 14/15\n",
      "1563/1563 [==============================] - 25s 16ms/step - loss: 0.5746 - accuracy: 0.8003\n",
      "Epoch 15/15\n",
      "1563/1563 [==============================] - 25s 16ms/step - loss: 0.5523 - accuracy: 0.8091\n"
     ]
    },
    {
     "data": {
      "image/png": "[encoded data removed]",
      "text/plain": [
       "<Figure size 432x288 with 1 Axes>"
      ]
     },
     "metadata": {
      "needs_background": "light"
     },
     "output_type": "display_data"
    },
    {
     "data": {
      "image/png": "[encoded data removed]",
      "text/plain": [
       "<Figure size 432x288 with 1 Axes>"
      ]
     },
     "metadata": {
      "needs_background": "light"
     },
     "output_type": "display_data"
    }
   ],
   "source": [
    "cnn = models.Sequential([ #sequential neural network model decleration\n",
    "    layers.Conv2D(filters=32, kernel_size=(3, 3), activation='relu', input_shape=(32, 32, 3)),\n",
    "    layers.MaxPooling2D((2, 2)),\n",
    "    \n",
    "    layers.Conv2D(filters=64, kernel_size=(3, 3), activation='relu'),\n",
    "    layers.MaxPooling2D((2, 2)),\n",
    "    \n",
    "    layers.Flatten(),\n",
    "    layers.Dense(64, activation='relu'),\n",
    "    layers.Dense(10, activation='softmax')\n",
    "])\n",
    "\n",
    "\n",
    "cnn.compile(optimizer='adam', #optimizer implements the adam algorithm\n",
    "              loss='sparse_categorical_crossentropy', #function used to calculate losses\n",
    "              metrics=['accuracy']) #metric to evaulate model based on\n",
    "\n",
    "\n",
    "model1 = cnn.fit(x_train, y_train, epochs=15) #training the algorithm\n",
    "\n",
    "#creating plot for accuracy over epoch\n",
    "plt.plot(model1.history['accuracy']) \n",
    "plt.title('Model Accuracy')\n",
    "plt.ylabel('Accuracy')\n",
    "plt.xlabel('Epoch')\n",
    "plt.show()\n",
    "\n",
    "#creating plot for loss over epoch\n",
    "plt.plot(model1.history['loss'])\n",
    "plt.title('Model Loss')\n",
    "plt.ylabel('Loss')\n",
    "plt.xlabel('Epoch')\n",
    "plt.show()"
   ]
  },
  {
   "cell_type": "code",
   "execution_count": null,
   "id": "b400b89f",
   "metadata": {},
   "outputs": [
    {
     "name": "stdout",
     "output_type": "stream",
     "text": [
      "313/313 [==============================] - 2s 6ms/step - loss: 0.9222 - accuracy: 0.6909\n"
     ]
    },
    {
     "data": {
      "text/plain": [
       "[0.922234058380127, 0.6909000277519226]"
      ]
     },
     "execution_count": 5,
     "metadata": {},
     "output_type": "execute_result"
    }
   ],
   "source": [
    "cnn.evaluate(x_test,y_test) #evaluating the model"
   ]
  }
 ],
 "metadata": {
  "kernelspec": {
   "display_name": "base",
   "language": "python",
   "name": "python3"
  },
  "language_info": {
   "codemirror_mode": {
    "name": "ipython",
    "version": 3
   },
   "file_extension": ".py",
   "mimetype": "text/x-python",
   "name": "python",
   "nbconvert_exporter": "python",
   "pygments_lexer": "ipython3",
   "version": "3.9.7"
  },
  "vscode": {
   "interpreter": {
    "hash": "f5f16fb0d3f5f9be43672133a71b6686f59bf9581a779b73808cb239b6cc051b"
   }
  }
 },
 "nbformat": 4,
 "nbformat_minor": 5
}
